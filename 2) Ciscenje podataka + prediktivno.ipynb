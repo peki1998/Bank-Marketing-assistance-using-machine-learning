{
 "cells": [
  {
   "cell_type": "markdown",
   "metadata": {},
   "source": [
    "# Ciscenje podataka + prediktivno"
   ]
  },
  {
   "cell_type": "code",
   "execution_count": 3,
   "metadata": {},
   "outputs": [],
   "source": [
    "import warnings\n",
    "warnings.filterwarnings(\"ignore\")\n",
    "import pandas as pd\n",
    "import numpy as np\n",
    "\n",
    "import matplotlib.pyplot  as plt\n",
    "\n",
    "from sklearn.metrics import precision_score, recall_score, f1_score,confusion_matrix\n",
    "\n",
    "from sklearn.metrics import roc_curve, roc_auc_score"
   ]
  },
  {
   "cell_type": "code",
   "execution_count": 4,
   "metadata": {},
   "outputs": [
    {
     "data": {
      "text/html": [
       "<div>\n",
       "<style scoped>\n",
       "    .dataframe tbody tr th:only-of-type {\n",
       "        vertical-align: middle;\n",
       "    }\n",
       "\n",
       "    .dataframe tbody tr th {\n",
       "        vertical-align: top;\n",
       "    }\n",
       "\n",
       "    .dataframe thead th {\n",
       "        text-align: right;\n",
       "    }\n",
       "</style>\n",
       "<table border=\"1\" class=\"dataframe\">\n",
       "  <thead>\n",
       "    <tr style=\"text-align: right;\">\n",
       "      <th></th>\n",
       "      <th>age</th>\n",
       "      <th>job</th>\n",
       "      <th>marital</th>\n",
       "      <th>education</th>\n",
       "      <th>default</th>\n",
       "      <th>housing</th>\n",
       "      <th>loan</th>\n",
       "      <th>contact</th>\n",
       "      <th>month</th>\n",
       "      <th>day_of_week</th>\n",
       "      <th>duration</th>\n",
       "      <th>campaign</th>\n",
       "      <th>pdays</th>\n",
       "      <th>previous</th>\n",
       "      <th>poutcome</th>\n",
       "      <th>emp.var.rate</th>\n",
       "      <th>cons.price.idx</th>\n",
       "      <th>cons.conf.idx</th>\n",
       "      <th>euribor3m</th>\n",
       "      <th>nr.employed</th>\n",
       "      <th>y</th>\n",
       "    </tr>\n",
       "  </thead>\n",
       "  <tbody>\n",
       "    <tr>\n",
       "      <th>0</th>\n",
       "      <td>30</td>\n",
       "      <td>blue-collar</td>\n",
       "      <td>married</td>\n",
       "      <td>basic.9y</td>\n",
       "      <td>no</td>\n",
       "      <td>yes</td>\n",
       "      <td>no</td>\n",
       "      <td>cellular</td>\n",
       "      <td>may</td>\n",
       "      <td>fri</td>\n",
       "      <td>487.0</td>\n",
       "      <td>2.0</td>\n",
       "      <td>999</td>\n",
       "      <td>0.0</td>\n",
       "      <td>nonexistent</td>\n",
       "      <td>-1.8</td>\n",
       "      <td>92.893</td>\n",
       "      <td>-46.2</td>\n",
       "      <td>1.313</td>\n",
       "      <td>5099.1</td>\n",
       "      <td>no</td>\n",
       "    </tr>\n",
       "    <tr>\n",
       "      <th>1</th>\n",
       "      <td>39</td>\n",
       "      <td>services</td>\n",
       "      <td>single</td>\n",
       "      <td>high.school</td>\n",
       "      <td>no</td>\n",
       "      <td>no</td>\n",
       "      <td>no</td>\n",
       "      <td>telephone</td>\n",
       "      <td>may</td>\n",
       "      <td>fri</td>\n",
       "      <td>346.0</td>\n",
       "      <td>4.0</td>\n",
       "      <td>999</td>\n",
       "      <td>0.0</td>\n",
       "      <td>nonexistent</td>\n",
       "      <td>1.1</td>\n",
       "      <td>93.994</td>\n",
       "      <td>-36.4</td>\n",
       "      <td>4.855</td>\n",
       "      <td>5191</td>\n",
       "      <td>no</td>\n",
       "    </tr>\n",
       "    <tr>\n",
       "      <th>2</th>\n",
       "      <td>25</td>\n",
       "      <td>services</td>\n",
       "      <td>married</td>\n",
       "      <td>high.school</td>\n",
       "      <td>no</td>\n",
       "      <td>yes</td>\n",
       "      <td>no</td>\n",
       "      <td>telephone</td>\n",
       "      <td>jun</td>\n",
       "      <td>wed</td>\n",
       "      <td>227.0</td>\n",
       "      <td>1.0</td>\n",
       "      <td>999</td>\n",
       "      <td>0.0</td>\n",
       "      <td>nonexistent</td>\n",
       "      <td>1.4</td>\n",
       "      <td>94.465</td>\n",
       "      <td>-41.8</td>\n",
       "      <td>4.962</td>\n",
       "      <td>5228.1</td>\n",
       "      <td>no</td>\n",
       "    </tr>\n",
       "    <tr>\n",
       "      <th>3</th>\n",
       "      <td>38</td>\n",
       "      <td>services</td>\n",
       "      <td>married</td>\n",
       "      <td>basic.9y</td>\n",
       "      <td>no</td>\n",
       "      <td>unknown</td>\n",
       "      <td>unknown</td>\n",
       "      <td>telephone</td>\n",
       "      <td>jun</td>\n",
       "      <td>fri</td>\n",
       "      <td>17.0</td>\n",
       "      <td>3.0</td>\n",
       "      <td>999</td>\n",
       "      <td>0.0</td>\n",
       "      <td>nonexistent</td>\n",
       "      <td>1.4</td>\n",
       "      <td>94.465</td>\n",
       "      <td>-41.8</td>\n",
       "      <td>4.959</td>\n",
       "      <td>5228.1</td>\n",
       "      <td>no</td>\n",
       "    </tr>\n",
       "    <tr>\n",
       "      <th>4</th>\n",
       "      <td>47</td>\n",
       "      <td>admin.</td>\n",
       "      <td>married</td>\n",
       "      <td>university.degree</td>\n",
       "      <td>no</td>\n",
       "      <td>yes</td>\n",
       "      <td>no</td>\n",
       "      <td>cellular</td>\n",
       "      <td>nov</td>\n",
       "      <td>mon</td>\n",
       "      <td>58.0</td>\n",
       "      <td>1.0</td>\n",
       "      <td>999</td>\n",
       "      <td>0.0</td>\n",
       "      <td>nonexistent</td>\n",
       "      <td>-0.1</td>\n",
       "      <td>93.200</td>\n",
       "      <td>-42.0</td>\n",
       "      <td>4.191</td>\n",
       "      <td>5195.8</td>\n",
       "      <td>no</td>\n",
       "    </tr>\n",
       "  </tbody>\n",
       "</table>\n",
       "</div>"
      ],
      "text/plain": [
       "   age          job  marital          education default  housing     loan  \\\n",
       "0   30  blue-collar  married           basic.9y      no      yes       no   \n",
       "1   39     services   single        high.school      no       no       no   \n",
       "2   25     services  married        high.school      no      yes       no   \n",
       "3   38     services  married           basic.9y      no  unknown  unknown   \n",
       "4   47       admin.  married  university.degree      no      yes       no   \n",
       "\n",
       "     contact month day_of_week  duration  campaign  pdays  previous  \\\n",
       "0   cellular   may         fri     487.0       2.0    999       0.0   \n",
       "1  telephone   may         fri     346.0       4.0    999       0.0   \n",
       "2  telephone   jun         wed     227.0       1.0    999       0.0   \n",
       "3  telephone   jun         fri      17.0       3.0    999       0.0   \n",
       "4   cellular   nov         mon      58.0       1.0    999       0.0   \n",
       "\n",
       "      poutcome  emp.var.rate  cons.price.idx  cons.conf.idx  euribor3m  \\\n",
       "0  nonexistent          -1.8          92.893          -46.2      1.313   \n",
       "1  nonexistent           1.1          93.994          -36.4      4.855   \n",
       "2  nonexistent           1.4          94.465          -41.8      4.962   \n",
       "3  nonexistent           1.4          94.465          -41.8      4.959   \n",
       "4  nonexistent          -0.1          93.200          -42.0      4.191   \n",
       "\n",
       "  nr.employed   y  \n",
       "0      5099.1  no  \n",
       "1        5191  no  \n",
       "2      5228.1  no  \n",
       "3      5228.1  no  \n",
       "4      5195.8  no  "
      ]
     },
     "execution_count": 4,
     "metadata": {},
     "output_type": "execute_result"
    }
   ],
   "source": [
    "df = pd.read_csv('Drugi domaći zadatak/bank-additional.csv', sep = ';')\n",
    "data = df\n",
    "pd.set_option('display.max_columns', 100)          #Da se prikazu sve kolone\n",
    "df.head()"
   ]
  },
  {
   "cell_type": "code",
   "execution_count": 5,
   "metadata": {},
   "outputs": [
    {
     "data": {
      "text/plain": [
       "age               0\n",
       "job               0\n",
       "marital           0\n",
       "education         0\n",
       "default           0\n",
       "housing           0\n",
       "loan              0\n",
       "contact           0\n",
       "month             0\n",
       "day_of_week       0\n",
       "duration          0\n",
       "campaign          0\n",
       "pdays             0\n",
       "previous          0\n",
       "poutcome          0\n",
       "emp.var.rate      0\n",
       "cons.price.idx    0\n",
       "cons.conf.idx     0\n",
       "euribor3m         0\n",
       "nr.employed       0\n",
       "y                 0\n",
       "dtype: int64"
      ]
     },
     "execution_count": 5,
     "metadata": {},
     "output_type": "execute_result"
    }
   ],
   "source": [
    "#Izbacimo sve redove sa null vrednostima. Ima ih svega 21 i sporadicno su rasporedjene, tako da ovo nece znacajno uticati na predikcije\n",
    "\n",
    "\n",
    "#df.isnull().sum() #Provera null vrednosti\n",
    "\n",
    "df = df.dropna()  #Izbacivanje null vrednosti\n",
    "\n",
    "df.isnull().sum()   #Provera"
   ]
  },
  {
   "cell_type": "code",
   "execution_count": 6,
   "metadata": {
    "scrolled": true
   },
   "outputs": [
    {
     "data": {
      "text/plain": [
       "age                 0\n",
       "job                38\n",
       "marital            11\n",
       "education         165\n",
       "default           794\n",
       "housing           103\n",
       "loan              103\n",
       "contact             0\n",
       "month               0\n",
       "day_of_week         0\n",
       "duration            0\n",
       "campaign            0\n",
       "pdays               0\n",
       "previous            0\n",
       "poutcome            0\n",
       "emp.var.rate        0\n",
       "cons.price.idx      0\n",
       "cons.conf.idx       0\n",
       "euribor3m           0\n",
       "nr.employed         0\n",
       "y                   0\n",
       "dtype: int64"
      ]
     },
     "execution_count": 6,
     "metadata": {},
     "output_type": "execute_result"
    }
   ],
   "source": [
    "#Provera prisustva 'unknown' vrednosti. \n",
    "\n",
    "df.isin(['unknown']).sum()\n",
    "\n",
    "#Bez obzira da li stavimo & ili | isti je rezultat stoga sledi da gde se unknown pojavi u loan pojavi se iskljucivo i u housing\n",
    "\n",
    "#df[(df['loan']=='unknown') & (df['housing'] == 'unknown')].count() \n",
    "\n",
    "\n"
   ]
  },
  {
   "cell_type": "code",
   "execution_count": 7,
   "metadata": {},
   "outputs": [
    {
     "data": {
      "text/plain": [
       "age                 0\n",
       "job                38\n",
       "marital             0\n",
       "education         164\n",
       "default           770\n",
       "housing             0\n",
       "loan                0\n",
       "contact             0\n",
       "month               0\n",
       "day_of_week         0\n",
       "duration            0\n",
       "campaign            0\n",
       "pdays               0\n",
       "previous            0\n",
       "poutcome            0\n",
       "emp.var.rate        0\n",
       "cons.price.idx      0\n",
       "cons.conf.idx       0\n",
       "euribor3m           0\n",
       "nr.employed         0\n",
       "y                   0\n",
       "dtype: int64"
      ]
     },
     "execution_count": 7,
     "metadata": {},
     "output_type": "execute_result"
    }
   ],
   "source": [
    "#Obzirom da ima samo 103 slucaja kada nam se to pojavljuje mozemo izbaciti te redove bez narocitih posledica po predikcije\n",
    "\n",
    "df = df[df.housing != 'unknown']\n",
    "\n",
    "#Izbacujemo i unknown redove u marital jer ih ima samo 11\n",
    "df = df[df.marital != 'unknown']\n",
    "\n",
    "df.isin(['unknown']).sum()"
   ]
  },
  {
   "cell_type": "markdown",
   "metadata": {},
   "source": [
    "U koloni default i education 'unknown' je znacajna vrednost (pogotovo u odnosu na broj instanci atributa) tako da bismo to mogli pretvoriti u num vrednost neku\n",
    "\n",
    "Job planiramo da sibnemo u get_dummies pa ako ih je mnogo malo u odnosu na druge atribute onda cemo videti da li da izbacujemo, sada necemo"
   ]
  },
  {
   "cell_type": "markdown",
   "metadata": {},
   "source": [
    "## Prebacivanje kategorickih u num vrednosti"
   ]
  },
  {
   "cell_type": "code",
   "execution_count": 8,
   "metadata": {},
   "outputs": [],
   "source": [
    "#Education pretvaramo u num:\n",
    "\n",
    "df['education'] = df['education'].map({\"unknown\":0,\"illiterate\" : 1, \"basic.4y\" : 2,\"basic.6y\" :3,\"basic.9y\" :4,\"high.school\" : 5,\"professional.course\":6,\"university.degree\":7})"
   ]
  },
  {
   "cell_type": "code",
   "execution_count": 9,
   "metadata": {},
   "outputs": [],
   "source": [
    "#Month pretvaramo u num:\n",
    "import calendar\n",
    "month_int = {month.lower() : idx for idx, month in enumerate(calendar.month_abbr) if month}\n",
    "\n",
    "df['month'].replace(month_int, inplace = True)"
   ]
  },
  {
   "cell_type": "code",
   "execution_count": 10,
   "metadata": {},
   "outputs": [],
   "source": [
    "#Day pretvaramo u num:\n",
    "\n",
    "day_num = {day.lower() : idx for idx, day in enumerate(calendar.day_abbr) if day}\n",
    "df['day_of_week'].replace(day_num, inplace = True)"
   ]
  },
  {
   "cell_type": "code",
   "execution_count": 11,
   "metadata": {},
   "outputs": [],
   "source": [
    "# Poutcome pretvaramo u num - JAKO BITNO\n",
    "\n",
    "poutcome_num = {'nonexistent': 0,'failure' : 1, 'success' : 2}\n",
    "df['poutcome'].replace(poutcome_num,inplace = True)"
   ]
  },
  {
   "cell_type": "code",
   "execution_count": 12,
   "metadata": {},
   "outputs": [],
   "source": [
    "# Contact pretvaramo u num\n",
    "\n",
    "contact_num = {'cellular':0,'telephone':1}\n",
    "df['contact'].replace(contact_num,inplace = True)"
   ]
  },
  {
   "cell_type": "code",
   "execution_count": 13,
   "metadata": {},
   "outputs": [],
   "source": [
    "# default pretvaramo u num (no = 0, unknown = 1)\n",
    "\n",
    "default_num = {'no':0,'unknown':1,'yes':1}\n",
    "df['default'].replace(default_num,inplace = True)"
   ]
  },
  {
   "cell_type": "code",
   "execution_count": 14,
   "metadata": {},
   "outputs": [],
   "source": [
    "#  loan, y, housing u num yes/no vrednosti\n",
    "\n",
    "yes_no_num = {'yes':1,'no' : 0}\n",
    "for col in ['housing','y','loan'] :\n",
    "    df[col].replace(yes_no_num, inplace = True)"
   ]
  },
  {
   "cell_type": "code",
   "execution_count": 15,
   "metadata": {},
   "outputs": [
    {
     "data": {
      "text/plain": [
       "5228.1    1567\n",
       "5099.1     801\n",
       "5191.0     729\n",
       "5195.8     383\n",
       "5076.2     159\n",
       "5017.5     102\n",
       "4991.6      85\n",
       "4963.6      80\n",
       "5008.7      56\n",
       "5023.5      21\n",
       "5176.3       1\n",
       "Name: nr.employed, dtype: int64"
      ]
     },
     "execution_count": 15,
     "metadata": {},
     "output_type": "execute_result"
    }
   ],
   "source": [
    "#Iz nekog razloga je nr.employed pokazivalo kao object pa smo ga prebacili u float64\n",
    "\n",
    "df['nr.employed'] = df['nr.employed'].astype('float64')\n",
    "\n",
    "df['nr.employed'].value_counts()"
   ]
  },
  {
   "cell_type": "code",
   "execution_count": 16,
   "metadata": {},
   "outputs": [
    {
     "data": {
      "text/html": [
       "<div>\n",
       "<style scoped>\n",
       "    .dataframe tbody tr th:only-of-type {\n",
       "        vertical-align: middle;\n",
       "    }\n",
       "\n",
       "    .dataframe tbody tr th {\n",
       "        vertical-align: top;\n",
       "    }\n",
       "\n",
       "    .dataframe thead th {\n",
       "        text-align: right;\n",
       "    }\n",
       "</style>\n",
       "<table border=\"1\" class=\"dataframe\">\n",
       "  <thead>\n",
       "    <tr style=\"text-align: right;\">\n",
       "      <th></th>\n",
       "      <th>age</th>\n",
       "      <th>job</th>\n",
       "      <th>marital</th>\n",
       "      <th>education</th>\n",
       "      <th>default</th>\n",
       "      <th>housing</th>\n",
       "      <th>loan</th>\n",
       "      <th>contact</th>\n",
       "      <th>month</th>\n",
       "      <th>day_of_week</th>\n",
       "      <th>duration</th>\n",
       "      <th>campaign</th>\n",
       "      <th>pdays</th>\n",
       "      <th>previous</th>\n",
       "      <th>poutcome</th>\n",
       "      <th>emp.var.rate</th>\n",
       "      <th>cons.price.idx</th>\n",
       "      <th>cons.conf.idx</th>\n",
       "      <th>euribor3m</th>\n",
       "      <th>nr.employed</th>\n",
       "      <th>y</th>\n",
       "    </tr>\n",
       "  </thead>\n",
       "  <tbody>\n",
       "    <tr>\n",
       "      <th>0</th>\n",
       "      <td>30</td>\n",
       "      <td>blue-collar</td>\n",
       "      <td>married</td>\n",
       "      <td>4</td>\n",
       "      <td>0</td>\n",
       "      <td>1</td>\n",
       "      <td>0</td>\n",
       "      <td>0</td>\n",
       "      <td>5</td>\n",
       "      <td>4</td>\n",
       "      <td>487.0</td>\n",
       "      <td>2.0</td>\n",
       "      <td>999</td>\n",
       "      <td>0.0</td>\n",
       "      <td>0</td>\n",
       "      <td>-1.8</td>\n",
       "      <td>92.893</td>\n",
       "      <td>-46.2</td>\n",
       "      <td>1.313</td>\n",
       "      <td>5099.1</td>\n",
       "      <td>0</td>\n",
       "    </tr>\n",
       "    <tr>\n",
       "      <th>1</th>\n",
       "      <td>39</td>\n",
       "      <td>services</td>\n",
       "      <td>single</td>\n",
       "      <td>5</td>\n",
       "      <td>0</td>\n",
       "      <td>0</td>\n",
       "      <td>0</td>\n",
       "      <td>1</td>\n",
       "      <td>5</td>\n",
       "      <td>4</td>\n",
       "      <td>346.0</td>\n",
       "      <td>4.0</td>\n",
       "      <td>999</td>\n",
       "      <td>0.0</td>\n",
       "      <td>0</td>\n",
       "      <td>1.1</td>\n",
       "      <td>93.994</td>\n",
       "      <td>-36.4</td>\n",
       "      <td>4.855</td>\n",
       "      <td>5191.0</td>\n",
       "      <td>0</td>\n",
       "    </tr>\n",
       "    <tr>\n",
       "      <th>2</th>\n",
       "      <td>25</td>\n",
       "      <td>services</td>\n",
       "      <td>married</td>\n",
       "      <td>5</td>\n",
       "      <td>0</td>\n",
       "      <td>1</td>\n",
       "      <td>0</td>\n",
       "      <td>1</td>\n",
       "      <td>6</td>\n",
       "      <td>2</td>\n",
       "      <td>227.0</td>\n",
       "      <td>1.0</td>\n",
       "      <td>999</td>\n",
       "      <td>0.0</td>\n",
       "      <td>0</td>\n",
       "      <td>1.4</td>\n",
       "      <td>94.465</td>\n",
       "      <td>-41.8</td>\n",
       "      <td>4.962</td>\n",
       "      <td>5228.1</td>\n",
       "      <td>0</td>\n",
       "    </tr>\n",
       "    <tr>\n",
       "      <th>4</th>\n",
       "      <td>47</td>\n",
       "      <td>admin.</td>\n",
       "      <td>married</td>\n",
       "      <td>7</td>\n",
       "      <td>0</td>\n",
       "      <td>1</td>\n",
       "      <td>0</td>\n",
       "      <td>0</td>\n",
       "      <td>11</td>\n",
       "      <td>0</td>\n",
       "      <td>58.0</td>\n",
       "      <td>1.0</td>\n",
       "      <td>999</td>\n",
       "      <td>0.0</td>\n",
       "      <td>0</td>\n",
       "      <td>-0.1</td>\n",
       "      <td>93.200</td>\n",
       "      <td>-42.0</td>\n",
       "      <td>4.191</td>\n",
       "      <td>5195.8</td>\n",
       "      <td>0</td>\n",
       "    </tr>\n",
       "    <tr>\n",
       "      <th>5</th>\n",
       "      <td>32</td>\n",
       "      <td>services</td>\n",
       "      <td>single</td>\n",
       "      <td>7</td>\n",
       "      <td>0</td>\n",
       "      <td>0</td>\n",
       "      <td>0</td>\n",
       "      <td>0</td>\n",
       "      <td>9</td>\n",
       "      <td>3</td>\n",
       "      <td>128.0</td>\n",
       "      <td>3.0</td>\n",
       "      <td>999</td>\n",
       "      <td>2.0</td>\n",
       "      <td>1</td>\n",
       "      <td>-1.1</td>\n",
       "      <td>94.199</td>\n",
       "      <td>-37.5</td>\n",
       "      <td>0.884</td>\n",
       "      <td>4963.6</td>\n",
       "      <td>0</td>\n",
       "    </tr>\n",
       "  </tbody>\n",
       "</table>\n",
       "</div>"
      ],
      "text/plain": [
       "   age          job  marital  education  default  housing  loan  contact  \\\n",
       "0   30  blue-collar  married          4        0        1     0        0   \n",
       "1   39     services   single          5        0        0     0        1   \n",
       "2   25     services  married          5        0        1     0        1   \n",
       "4   47       admin.  married          7        0        1     0        0   \n",
       "5   32     services   single          7        0        0     0        0   \n",
       "\n",
       "   month  day_of_week  duration  campaign  pdays  previous  poutcome  \\\n",
       "0      5            4     487.0       2.0    999       0.0         0   \n",
       "1      5            4     346.0       4.0    999       0.0         0   \n",
       "2      6            2     227.0       1.0    999       0.0         0   \n",
       "4     11            0      58.0       1.0    999       0.0         0   \n",
       "5      9            3     128.0       3.0    999       2.0         1   \n",
       "\n",
       "   emp.var.rate  cons.price.idx  cons.conf.idx  euribor3m  nr.employed  y  \n",
       "0          -1.8          92.893          -46.2      1.313       5099.1  0  \n",
       "1           1.1          93.994          -36.4      4.855       5191.0  0  \n",
       "2           1.4          94.465          -41.8      4.962       5228.1  0  \n",
       "4          -0.1          93.200          -42.0      4.191       5195.8  0  \n",
       "5          -1.1          94.199          -37.5      0.884       4963.6  0  "
      ]
     },
     "execution_count": 16,
     "metadata": {},
     "output_type": "execute_result"
    }
   ],
   "source": [
    "df.head()\n",
    "\n",
    "#Sad jos ostaje da job i martial prebacimo tako sto cemo da iskoristimo get_dummies i od tih vrednosti napravimo atribute sa binarnim vrednostima"
   ]
  },
  {
   "cell_type": "code",
   "execution_count": 17,
   "metadata": {},
   "outputs": [
    {
     "data": {
      "text/plain": [
       "(3984, 32)"
      ]
     },
     "execution_count": 17,
     "metadata": {},
     "output_type": "execute_result"
    }
   ],
   "source": [
    "df = pd.get_dummies(df, columns = ['job','marital'], drop_first = True)\n",
    "df.shape"
   ]
  },
  {
   "cell_type": "code",
   "execution_count": 18,
   "metadata": {
    "scrolled": true
   },
   "outputs": [
    {
     "data": {
      "text/plain": [
       "[0    3213\n",
       " 1     771\n",
       " Name: default, dtype: int64,\n",
       " 0    3544\n",
       " 1     440\n",
       " Name: y, dtype: int64]"
      ]
     },
     "execution_count": 18,
     "metadata": {},
     "output_type": "execute_result"
    }
   ],
   "source": [
    "[df['default'].value_counts(),df['y'].value_counts()]"
   ]
  },
  {
   "cell_type": "markdown",
   "metadata": {},
   "source": [
    "## Potencijalno izbacivanje i uredjivanje kolona koje smo uvideli da imaju neke outliere"
   ]
  },
  {
   "cell_type": "code",
   "execution_count": 19,
   "metadata": {},
   "outputs": [
    {
     "data": {
      "text/html": [
       "<div>\n",
       "<style scoped>\n",
       "    .dataframe tbody tr th:only-of-type {\n",
       "        vertical-align: middle;\n",
       "    }\n",
       "\n",
       "    .dataframe tbody tr th {\n",
       "        vertical-align: top;\n",
       "    }\n",
       "\n",
       "    .dataframe thead th {\n",
       "        text-align: right;\n",
       "    }\n",
       "</style>\n",
       "<table border=\"1\" class=\"dataframe\">\n",
       "  <thead>\n",
       "    <tr style=\"text-align: right;\">\n",
       "      <th></th>\n",
       "      <th>pdays</th>\n",
       "      <th>campaign</th>\n",
       "      <th>previous</th>\n",
       "    </tr>\n",
       "  </thead>\n",
       "  <tbody>\n",
       "    <tr>\n",
       "      <th>count</th>\n",
       "      <td>3984.000000</td>\n",
       "      <td>3984.000000</td>\n",
       "      <td>3984.000000</td>\n",
       "    </tr>\n",
       "    <tr>\n",
       "      <th>mean</th>\n",
       "      <td>960.111446</td>\n",
       "      <td>2.535894</td>\n",
       "      <td>0.188755</td>\n",
       "    </tr>\n",
       "    <tr>\n",
       "      <th>std</th>\n",
       "      <td>192.665310</td>\n",
       "      <td>2.577295</td>\n",
       "      <td>0.537813</td>\n",
       "    </tr>\n",
       "    <tr>\n",
       "      <th>min</th>\n",
       "      <td>0.000000</td>\n",
       "      <td>1.000000</td>\n",
       "      <td>0.000000</td>\n",
       "    </tr>\n",
       "    <tr>\n",
       "      <th>25%</th>\n",
       "      <td>999.000000</td>\n",
       "      <td>1.000000</td>\n",
       "      <td>0.000000</td>\n",
       "    </tr>\n",
       "    <tr>\n",
       "      <th>50%</th>\n",
       "      <td>999.000000</td>\n",
       "      <td>2.000000</td>\n",
       "      <td>0.000000</td>\n",
       "    </tr>\n",
       "    <tr>\n",
       "      <th>75%</th>\n",
       "      <td>999.000000</td>\n",
       "      <td>3.000000</td>\n",
       "      <td>0.000000</td>\n",
       "    </tr>\n",
       "    <tr>\n",
       "      <th>max</th>\n",
       "      <td>999.000000</td>\n",
       "      <td>35.000000</td>\n",
       "      <td>6.000000</td>\n",
       "    </tr>\n",
       "  </tbody>\n",
       "</table>\n",
       "</div>"
      ],
      "text/plain": [
       "             pdays     campaign     previous\n",
       "count  3984.000000  3984.000000  3984.000000\n",
       "mean    960.111446     2.535894     0.188755\n",
       "std     192.665310     2.577295     0.537813\n",
       "min       0.000000     1.000000     0.000000\n",
       "25%     999.000000     1.000000     0.000000\n",
       "50%     999.000000     2.000000     0.000000\n",
       "75%     999.000000     3.000000     0.000000\n",
       "max     999.000000    35.000000     6.000000"
      ]
     },
     "execution_count": 19,
     "metadata": {},
     "output_type": "execute_result"
    }
   ],
   "source": [
    "df[['pdays', 'campaign', 'previous']].describe()"
   ]
  },
  {
   "cell_type": "code",
   "execution_count": 20,
   "metadata": {},
   "outputs": [
    {
     "data": {
      "text/plain": [
       "2"
      ]
     },
     "execution_count": 20,
     "metadata": {},
     "output_type": "execute_result"
    }
   ],
   "source": [
    "#Sa slika vidimo da je pdays 96% kolone jednak 999 sto znaci da klijenti nisu ni kontaktirani, ovo je outlier i trebalo bi da se ta kolona dropuje\n",
    "\n",
    "#len(df[df['pdays'] ==999])/len(df)*100\n",
    "\n",
    "#\n",
    "len(df[df['pdays'] ==0])\n",
    "\n",
    "\n",
    "#df['pdays'].value_counts()"
   ]
  },
  {
   "cell_type": "code",
   "execution_count": 21,
   "metadata": {},
   "outputs": [
    {
     "data": {
      "text/plain": [
       "98.99598393574297"
      ]
     },
     "execution_count": 21,
     "metadata": {},
     "output_type": "execute_result"
    }
   ],
   "source": [
    "len(df[df['previous'] <=2.5])/len(df)*100"
   ]
  },
  {
   "cell_type": "code",
   "execution_count": 22,
   "metadata": {},
   "outputs": [
    {
     "data": {
      "text/plain": [
       "3949"
      ]
     },
     "execution_count": 22,
     "metadata": {},
     "output_type": "execute_result"
    }
   ],
   "source": [
    "len(df[df['campaign'] <=14])#/len(df)*100\n",
    "\n",
    "#Vidimo da je sve preko 14 za capaign sum (ima ih 35), pretvoricemo ih u mean"
   ]
  },
  {
   "cell_type": "code",
   "execution_count": 23,
   "metadata": {},
   "outputs": [
    {
     "data": {
      "text/plain": [
       "2.5358935742971886"
      ]
     },
     "execution_count": 23,
     "metadata": {},
     "output_type": "execute_result"
    }
   ],
   "source": [
    "df['campaign'].mean()"
   ]
  },
  {
   "cell_type": "code",
   "execution_count": 24,
   "metadata": {},
   "outputs": [],
   "source": [
    "#Dropujemo pdays\n",
    "\n",
    "df = df.drop(columns = ['pdays'])"
   ]
  },
  {
   "cell_type": "code",
   "execution_count": 25,
   "metadata": {},
   "outputs": [],
   "source": [
    "#Popunimo outliere sa mean vrednostima u kolonama campaign i previous\n",
    "\n",
    "def dobra_vrednost(row, column_name, prag, df):\n",
    "    ''' Returns mean value if value in column_name is above threshold'''\n",
    "    if row[column_name] <= prag:\n",
    "        return row[column_name]\n",
    "    else:\n",
    "        mean = df[df[column_name] <= prag][column_name].mean()\n",
    "        return mean\n",
    "    \n",
    "df['campaign'] = df.apply(lambda row: dobra_vrednost(row, 'campaign', 2.5, df),axis=1)\n",
    "df['previous'] = df.apply(lambda row: dobra_vrednost(row, 'previous', 5, df),axis=1)"
   ]
  },
  {
   "cell_type": "code",
   "execution_count": 26,
   "metadata": {
    "scrolled": false
   },
   "outputs": [
    {
     "data": {
      "text/html": [
       "<div>\n",
       "<style scoped>\n",
       "    .dataframe tbody tr th:only-of-type {\n",
       "        vertical-align: middle;\n",
       "    }\n",
       "\n",
       "    .dataframe tbody tr th {\n",
       "        vertical-align: top;\n",
       "    }\n",
       "\n",
       "    .dataframe thead th {\n",
       "        text-align: right;\n",
       "    }\n",
       "</style>\n",
       "<table border=\"1\" class=\"dataframe\">\n",
       "  <thead>\n",
       "    <tr style=\"text-align: right;\">\n",
       "      <th></th>\n",
       "      <th>age</th>\n",
       "      <th>education</th>\n",
       "      <th>default</th>\n",
       "      <th>housing</th>\n",
       "      <th>loan</th>\n",
       "      <th>contact</th>\n",
       "      <th>month</th>\n",
       "      <th>day_of_week</th>\n",
       "      <th>duration</th>\n",
       "      <th>campaign</th>\n",
       "      <th>previous</th>\n",
       "      <th>poutcome</th>\n",
       "      <th>emp.var.rate</th>\n",
       "      <th>cons.price.idx</th>\n",
       "      <th>cons.conf.idx</th>\n",
       "      <th>euribor3m</th>\n",
       "      <th>nr.employed</th>\n",
       "      <th>y</th>\n",
       "      <th>job_blue-collar</th>\n",
       "      <th>job_entrepreneur</th>\n",
       "      <th>job_housemaid</th>\n",
       "      <th>job_management</th>\n",
       "      <th>job_retired</th>\n",
       "      <th>job_self-employed</th>\n",
       "      <th>job_services</th>\n",
       "      <th>job_student</th>\n",
       "      <th>job_technician</th>\n",
       "      <th>job_unemployed</th>\n",
       "      <th>job_unknown</th>\n",
       "      <th>marital_married</th>\n",
       "      <th>marital_single</th>\n",
       "    </tr>\n",
       "  </thead>\n",
       "  <tbody>\n",
       "    <tr>\n",
       "      <th>0</th>\n",
       "      <td>30</td>\n",
       "      <td>4</td>\n",
       "      <td>0</td>\n",
       "      <td>1</td>\n",
       "      <td>0</td>\n",
       "      <td>0</td>\n",
       "      <td>5</td>\n",
       "      <td>4</td>\n",
       "      <td>487.0</td>\n",
       "      <td>2.000000</td>\n",
       "      <td>0.0</td>\n",
       "      <td>0</td>\n",
       "      <td>-1.8</td>\n",
       "      <td>92.893</td>\n",
       "      <td>-46.2</td>\n",
       "      <td>1.313</td>\n",
       "      <td>5099.1</td>\n",
       "      <td>0</td>\n",
       "      <td>1</td>\n",
       "      <td>0</td>\n",
       "      <td>0</td>\n",
       "      <td>0</td>\n",
       "      <td>0</td>\n",
       "      <td>0</td>\n",
       "      <td>0</td>\n",
       "      <td>0</td>\n",
       "      <td>0</td>\n",
       "      <td>0</td>\n",
       "      <td>0</td>\n",
       "      <td>1</td>\n",
       "      <td>0</td>\n",
       "    </tr>\n",
       "    <tr>\n",
       "      <th>1</th>\n",
       "      <td>39</td>\n",
       "      <td>5</td>\n",
       "      <td>0</td>\n",
       "      <td>0</td>\n",
       "      <td>0</td>\n",
       "      <td>1</td>\n",
       "      <td>5</td>\n",
       "      <td>4</td>\n",
       "      <td>346.0</td>\n",
       "      <td>1.372333</td>\n",
       "      <td>0.0</td>\n",
       "      <td>0</td>\n",
       "      <td>1.1</td>\n",
       "      <td>93.994</td>\n",
       "      <td>-36.4</td>\n",
       "      <td>4.855</td>\n",
       "      <td>5191.0</td>\n",
       "      <td>0</td>\n",
       "      <td>0</td>\n",
       "      <td>0</td>\n",
       "      <td>0</td>\n",
       "      <td>0</td>\n",
       "      <td>0</td>\n",
       "      <td>0</td>\n",
       "      <td>1</td>\n",
       "      <td>0</td>\n",
       "      <td>0</td>\n",
       "      <td>0</td>\n",
       "      <td>0</td>\n",
       "      <td>0</td>\n",
       "      <td>1</td>\n",
       "    </tr>\n",
       "    <tr>\n",
       "      <th>2</th>\n",
       "      <td>25</td>\n",
       "      <td>5</td>\n",
       "      <td>0</td>\n",
       "      <td>1</td>\n",
       "      <td>0</td>\n",
       "      <td>1</td>\n",
       "      <td>6</td>\n",
       "      <td>2</td>\n",
       "      <td>227.0</td>\n",
       "      <td>1.000000</td>\n",
       "      <td>0.0</td>\n",
       "      <td>0</td>\n",
       "      <td>1.4</td>\n",
       "      <td>94.465</td>\n",
       "      <td>-41.8</td>\n",
       "      <td>4.962</td>\n",
       "      <td>5228.1</td>\n",
       "      <td>0</td>\n",
       "      <td>0</td>\n",
       "      <td>0</td>\n",
       "      <td>0</td>\n",
       "      <td>0</td>\n",
       "      <td>0</td>\n",
       "      <td>0</td>\n",
       "      <td>1</td>\n",
       "      <td>0</td>\n",
       "      <td>0</td>\n",
       "      <td>0</td>\n",
       "      <td>0</td>\n",
       "      <td>1</td>\n",
       "      <td>0</td>\n",
       "    </tr>\n",
       "    <tr>\n",
       "      <th>4</th>\n",
       "      <td>47</td>\n",
       "      <td>7</td>\n",
       "      <td>0</td>\n",
       "      <td>1</td>\n",
       "      <td>0</td>\n",
       "      <td>0</td>\n",
       "      <td>11</td>\n",
       "      <td>0</td>\n",
       "      <td>58.0</td>\n",
       "      <td>1.000000</td>\n",
       "      <td>0.0</td>\n",
       "      <td>0</td>\n",
       "      <td>-0.1</td>\n",
       "      <td>93.200</td>\n",
       "      <td>-42.0</td>\n",
       "      <td>4.191</td>\n",
       "      <td>5195.8</td>\n",
       "      <td>0</td>\n",
       "      <td>0</td>\n",
       "      <td>0</td>\n",
       "      <td>0</td>\n",
       "      <td>0</td>\n",
       "      <td>0</td>\n",
       "      <td>0</td>\n",
       "      <td>0</td>\n",
       "      <td>0</td>\n",
       "      <td>0</td>\n",
       "      <td>0</td>\n",
       "      <td>0</td>\n",
       "      <td>1</td>\n",
       "      <td>0</td>\n",
       "    </tr>\n",
       "    <tr>\n",
       "      <th>5</th>\n",
       "      <td>32</td>\n",
       "      <td>7</td>\n",
       "      <td>0</td>\n",
       "      <td>0</td>\n",
       "      <td>0</td>\n",
       "      <td>0</td>\n",
       "      <td>9</td>\n",
       "      <td>3</td>\n",
       "      <td>128.0</td>\n",
       "      <td>1.372333</td>\n",
       "      <td>2.0</td>\n",
       "      <td>1</td>\n",
       "      <td>-1.1</td>\n",
       "      <td>94.199</td>\n",
       "      <td>-37.5</td>\n",
       "      <td>0.884</td>\n",
       "      <td>4963.6</td>\n",
       "      <td>0</td>\n",
       "      <td>0</td>\n",
       "      <td>0</td>\n",
       "      <td>0</td>\n",
       "      <td>0</td>\n",
       "      <td>0</td>\n",
       "      <td>0</td>\n",
       "      <td>1</td>\n",
       "      <td>0</td>\n",
       "      <td>0</td>\n",
       "      <td>0</td>\n",
       "      <td>0</td>\n",
       "      <td>0</td>\n",
       "      <td>1</td>\n",
       "    </tr>\n",
       "  </tbody>\n",
       "</table>\n",
       "</div>"
      ],
      "text/plain": [
       "   age  education  default  housing  loan  contact  month  day_of_week  \\\n",
       "0   30          4        0        1     0        0      5            4   \n",
       "1   39          5        0        0     0        1      5            4   \n",
       "2   25          5        0        1     0        1      6            2   \n",
       "4   47          7        0        1     0        0     11            0   \n",
       "5   32          7        0        0     0        0      9            3   \n",
       "\n",
       "   duration  campaign  previous  poutcome  emp.var.rate  cons.price.idx  \\\n",
       "0     487.0  2.000000       0.0         0          -1.8          92.893   \n",
       "1     346.0  1.372333       0.0         0           1.1          93.994   \n",
       "2     227.0  1.000000       0.0         0           1.4          94.465   \n",
       "4      58.0  1.000000       0.0         0          -0.1          93.200   \n",
       "5     128.0  1.372333       2.0         1          -1.1          94.199   \n",
       "\n",
       "   cons.conf.idx  euribor3m  nr.employed  y  job_blue-collar  \\\n",
       "0          -46.2      1.313       5099.1  0                1   \n",
       "1          -36.4      4.855       5191.0  0                0   \n",
       "2          -41.8      4.962       5228.1  0                0   \n",
       "4          -42.0      4.191       5195.8  0                0   \n",
       "5          -37.5      0.884       4963.6  0                0   \n",
       "\n",
       "   job_entrepreneur  job_housemaid  job_management  job_retired  \\\n",
       "0                 0              0               0            0   \n",
       "1                 0              0               0            0   \n",
       "2                 0              0               0            0   \n",
       "4                 0              0               0            0   \n",
       "5                 0              0               0            0   \n",
       "\n",
       "   job_self-employed  job_services  job_student  job_technician  \\\n",
       "0                  0             0            0               0   \n",
       "1                  0             1            0               0   \n",
       "2                  0             1            0               0   \n",
       "4                  0             0            0               0   \n",
       "5                  0             1            0               0   \n",
       "\n",
       "   job_unemployed  job_unknown  marital_married  marital_single  \n",
       "0               0            0                1               0  \n",
       "1               0            0                0               1  \n",
       "2               0            0                1               0  \n",
       "4               0            0                1               0  \n",
       "5               0            0                0               1  "
      ]
     },
     "execution_count": 26,
     "metadata": {},
     "output_type": "execute_result"
    }
   ],
   "source": [
    "df_clean = df\n",
    "df_clean.head()"
   ]
  },
  {
   "cell_type": "code",
   "execution_count": null,
   "metadata": {},
   "outputs": [],
   "source": [
    "df_clean.to_csv(r'C:\\Users\\Boka\\Desktop\\Masinsko ucenje\\Mašinsko učenje dan 07\\data\\df_clean.csv', index = False)"
   ]
  },
  {
   "cell_type": "markdown",
   "metadata": {},
   "source": [
    "# PREDIKTIVNO!"
   ]
  },
  {
   "cell_type": "code",
   "execution_count": 27,
   "metadata": {},
   "outputs": [],
   "source": [
    "X = df_clean.drop('y', axis=1)\n",
    "y = df_clean['y']"
   ]
  },
  {
   "cell_type": "code",
   "execution_count": 28,
   "metadata": {},
   "outputs": [],
   "source": [
    "from sklearn.model_selection import train_test_split\n",
    "X_train, X_test, y_train, y_test = train_test_split(X, y, test_size=0.3, random_state=2021)"
   ]
  },
  {
   "cell_type": "code",
   "execution_count": 29,
   "metadata": {},
   "outputs": [
    {
     "data": {
      "text/plain": [
       "0.9257028112449799"
      ]
     },
     "execution_count": 29,
     "metadata": {},
     "output_type": "execute_result"
    }
   ],
   "source": [
    "# KNN\n",
    "from sklearn.metrics import accuracy_score\n",
    "from sklearn.neighbors import KNeighborsClassifier\n",
    "model = KNeighborsClassifier()\n",
    "model.fit(X, y)\n",
    "accuracy_score(y, model.predict(X))"
   ]
  },
  {
   "cell_type": "code",
   "execution_count": 30,
   "metadata": {},
   "outputs": [
    {
     "data": {
      "text/plain": [
       "0.9103915662650602"
      ]
     },
     "execution_count": 30,
     "metadata": {},
     "output_type": "execute_result"
    }
   ],
   "source": [
    "# Logristic Regression\n",
    "\n",
    "from sklearn.linear_model import LogisticRegression\n",
    "model_LR = LogisticRegression()\n",
    "model_LR.fit(X, y)\n",
    "accuracy_score(y, model_LR.predict(X))"
   ]
  },
  {
   "cell_type": "code",
   "execution_count": 31,
   "metadata": {
    "scrolled": false
   },
   "outputs": [
    {
     "data": {
      "text/plain": [
       "0.9299698795180723"
      ]
     },
     "execution_count": 31,
     "metadata": {},
     "output_type": "execute_result"
    }
   ],
   "source": [
    "# DecisionTree\n",
    "\n",
    "from sklearn.tree import DecisionTreeClassifier\n",
    "model_DT = DecisionTreeClassifier(max_depth=5)\n",
    "model_DT.fit(X, y)\n",
    "accuracy_score(y, model_DT.predict(X))"
   ]
  },
  {
   "cell_type": "markdown",
   "metadata": {},
   "source": [
    "## Radimo za KNN"
   ]
  },
  {
   "cell_type": "markdown",
   "metadata": {},
   "source": [
    "#### Pravimo model, fitujemo i predvidjamo. Zatim proveravamo sve relevantne metrike :"
   ]
  },
  {
   "cell_type": "code",
   "execution_count": 32,
   "metadata": {},
   "outputs": [],
   "source": [
    "def print_performance(y, y_hat):\n",
    "    print(f'Accuracy: {accuracy_score(y, y_hat)}')\n",
    "    print(f'Precision: {precision_score(y, y_hat)}')\n",
    "    print(f'Recall: {recall_score(y, y_hat)}')\n",
    "    print(f'F1: {f1_score(y, y_hat)}')"
   ]
  },
  {
   "cell_type": "code",
   "execution_count": 33,
   "metadata": {
    "scrolled": false
   },
   "outputs": [
    {
     "name": "stdout",
     "output_type": "stream",
     "text": [
      "[[2414   69]\n",
      " [ 135  170]]\n",
      "Accuracy: 0.926829268292683\n",
      "Precision: 0.7112970711297071\n",
      "Recall: 0.5573770491803278\n",
      "F1: 0.625\n",
      "AUC 0.9624\n"
     ]
    }
   ],
   "source": [
    "model = KNeighborsClassifier( n_neighbors=5)\n",
    "model.fit(X_train, y_train)\n",
    "predictions= model.predict(X_train)\n",
    "\n",
    "\n",
    "probas = model.predict_proba(X_train)\n",
    "pred_proba = probas[:, 1]\n",
    "roc = round(roc_auc_score(y_train, pred_proba),4)\n",
    "\n",
    "cfm = confusion_matrix(y_true=y_train, y_pred=predictions)\n",
    "\n",
    "print(cfm)\n",
    "print_performance(y_train, predictions)\n",
    "print('AUC', roc)"
   ]
  },
  {
   "cell_type": "markdown",
   "metadata": {},
   "source": [
    "#### Cross validacija za  train podatke"
   ]
  },
  {
   "cell_type": "code",
   "execution_count": 34,
   "metadata": {},
   "outputs": [
    {
     "name": "stdout",
     "output_type": "stream",
     "text": [
      "Cross validated accuracy je:  0.895250251411774\n",
      "Cross validated standarardna devijacija za accuracy je:  0.020607312935975043\n"
     ]
    }
   ],
   "source": [
    "from sklearn.model_selection import cross_val_score\n",
    "results = cross_val_score(model, X_train, y_train, cv=10, scoring='accuracy')\n",
    "# Kros validiran accuracy, sa devijacijom\n",
    "print('Cross validated accuracy je: ',results.mean())\n",
    "\n",
    "print('Cross validated standarardna devijacija za accuracy je: ',results.std())"
   ]
  },
  {
   "cell_type": "markdown",
   "metadata": {},
   "source": [
    "#### ROC :"
   ]
  },
  {
   "cell_type": "code",
   "execution_count": 35,
   "metadata": {
    "scrolled": false
   },
   "outputs": [
    {
     "data": {
      "text/plain": [
       "[<matplotlib.lines.Line2D at 0x285530440d0>]"
      ]
     },
     "execution_count": 35,
     "metadata": {},
     "output_type": "execute_result"
    },
    {
     "data": {
      "image/png": "[encoded data removed]",
      "text/plain": [
       "<Figure size 432x288 with 1 Axes>"
      ]
     },
     "metadata": {
      "needs_background": "light"
     },
     "output_type": "display_data"
    }
   ],
   "source": [
    "import matplotlib.pyplot as plt\n",
    "from sklearn.metrics import roc_curve\n",
    "fpr, tpr, thresholds = roc_curve(y_train, pred_proba)\n",
    "plt.plot(fpr, tpr)"
   ]
  },
  {
   "cell_type": "markdown",
   "metadata": {},
   "source": [
    "#### Radimo isto za test podatke"
   ]
  },
  {
   "cell_type": "code",
   "execution_count": 36,
   "metadata": {
    "scrolled": false
   },
   "outputs": [
    {
     "name": "stdout",
     "output_type": "stream",
     "text": [
      "[[1000   61]\n",
      " [  77   58]]\n",
      "Accuracy: 0.8846153846153846\n",
      "Precision: 0.48739495798319327\n",
      "Recall: 0.42962962962962964\n",
      "F1: 0.45669291338582674\n",
      "AUC 0.8567\n"
     ]
    }
   ],
   "source": [
    "#model = KNeighborsClassifier( n_neighbors=5)\n",
    "model = KNeighborsClassifier( n_neighbors=5)\n",
    "model.fit(X_train, y_train)\n",
    "predictions= model.predict(X_test)\n",
    "\n",
    "\n",
    "probas = model.predict_proba(X_test)\n",
    "pred_proba = probas[:, 1]\n",
    "roc = round(roc_auc_score(y_test, pred_proba),4)\n",
    "\n",
    "cfm = confusion_matrix(y_true=y_test, y_pred=predictions)\n",
    "\n",
    "print(cfm)\n",
    "print_performance(y_test, predictions)\n",
    "print('AUC', roc)"
   ]
  },
  {
   "cell_type": "code",
   "execution_count": 37,
   "metadata": {
    "scrolled": true
   },
   "outputs": [
    {
     "data": {
      "text/plain": [
       "[<matplotlib.lines.Line2D at 0x28553103f40>]"
      ]
     },
     "execution_count": 37,
     "metadata": {},
     "output_type": "execute_result"
    },
    {
     "data": {
      "image/png": "[encoded data removed]",
      "text/plain": [
       "<Figure size 432x288 with 1 Axes>"
      ]
     },
     "metadata": {
      "needs_background": "light"
     },
     "output_type": "display_data"
    }
   ],
   "source": [
    "import matplotlib.pyplot as plt\n",
    "from sklearn.metrics import roc_curve\n",
    "fpr, tpr, thresholds = roc_curve(y_test, pred_proba)\n",
    "plt.plot(fpr, tpr)"
   ]
  },
  {
   "cell_type": "markdown",
   "metadata": {},
   "source": [
    "### Granice"
   ]
  },
  {
   "cell_type": "code",
   "execution_count": null,
   "metadata": {
    "scrolled": false
   },
   "outputs": [],
   "source": [
    "predictions = model.predict_proba(X_train)[:, 1] >= 0.9\n",
    "confusion_matrix(y_train, predictions)"
   ]
  },
  {
   "cell_type": "markdown",
   "metadata": {},
   "source": [
    "### Uporedjivanje za razlicite parametre\n",
    "\n",
    "#### 1) Za KNeighborsClassifier( n_neighbors=5) \n",
    "       UCENO NA TRAIN, PROVERA NA TEST: \n",
    "        [[2415   68]\n",
    "         [ 137  168]]\n",
    "            Accuracy: 0.9264705882352942\n",
    "            Precision: 0.711864406779661\n",
    "            Recall: 0.5508196721311476\n",
    "            F1: 0.6210720887245841\n",
    "            AUC 0.9633\n",
    "            Cross validated accuracy je:  0.895250251411774\n",
    "            Cross validated standarardna devijacija za accuracy je:  0.020607312935975043\n",
    "            \n",
    "            \n",
    "       Ucenje na train, provera na test:\n",
    "            [[1000   61]\n",
    "             [  77   58]]\n",
    "            Accuracy: 0.8846153846153846\n",
    "            Precision: 0.48739495798319327\n",
    "            Recall: 0.42962962962962964\n",
    "            F1: 0.45669291338582674\n",
    "            AUC 0.8567           \n",
    "            \n",
    "            \n",
    "#### 2) Za KNeighborsClassifier( n_neighbors=2) \n",
    "           \n",
    "           UCENO NA TRAIN, PROVERA NA TEST:\n",
    "            [[2483    0]\n",
    "             [ 171  134]]\n",
    "            Accuracy: 0.9386657101865137\n",
    "            Precision: 1.0\n",
    "            Recall: 0.43934426229508194\n",
    "            F1: 0.6104783599088839\n",
    "            AUC 0.9826\n",
    "   \n",
    "            Cross validated accuracy je:  0.8966865217503417\n",
    "            Cross validated standarardna devijacija za accuracy je:  0.018356628172358894\n",
    "            \n",
    "            Ucenje na train, provera na test:\n",
    "            \n",
    "            [[1000   61]\n",
    "             [  77   58]]\n",
    "            Accuracy: 0.8846153846153846\n",
    "            Precision: 0.48739495798319327\n",
    "            Recall: 0.42962962962962964\n",
    "            F1: 0.45669291338582674\n",
    "            AUC 0.8567\n",
    "            \n",
    "#### 3) Za KNeighborsClassifier( n_neighbors=50) \n",
    "            \n",
    "           UCENO NA TRAIN, PROVERA NA TEST: \n",
    "                [[2421   62]\n",
    "                 [ 169  136]]\n",
    "                Accuracy: 0.917144906743185\n",
    "                Precision: 0.6868686868686869\n",
    "                Recall: 0.4459016393442623\n",
    "                F1: 0.540755467196819\n",
    "                AUC 0.9385\n",
    "               Cross validated accuracy je:  0.9121154689151905\n",
    "               Cross validated standarardna devijacija za accuracy je:  0.016108892158719003\n",
    "               \n",
    "            Ucenje na train, provera na test:    \n",
    "                [[1000   61]\n",
    "                 [  77   58]]\n",
    "                Accuracy: 0.8846153846153846\n",
    "                Precision: 0.48739495798319327\n",
    "                Recall: 0.42962962962962964\n",
    "                F1: 0.45669291338582674\n",
    "                AUC 0.8567"
   ]
  },
  {
   "cell_type": "markdown",
   "metadata": {},
   "source": [
    "## Radimo za Decision Tree"
   ]
  },
  {
   "cell_type": "markdown",
   "metadata": {},
   "source": [
    "#### Pravimo model, fitujemo i predvidjamo. Zatim proveravamo sve relevantne metrike :"
   ]
  },
  {
   "cell_type": "code",
   "execution_count": 38,
   "metadata": {
    "scrolled": false
   },
   "outputs": [
    {
     "name": "stdout",
     "output_type": "stream",
     "text": [
      "[[2415   68]\n",
      " [ 110  195]]\n",
      "Accuracy: 0.936154949784792\n",
      "Precision: 0.7414448669201521\n",
      "Recall: 0.639344262295082\n",
      "F1: 0.6866197183098592\n",
      "AUC 0.9368\n"
     ]
    }
   ],
   "source": [
    "model = DecisionTreeClassifier(max_depth = 5)\n",
    "model.fit(X_train, y_train)\n",
    "predictions= model.predict(X_train)\n",
    "\n",
    "\n",
    "probas = model.predict_proba(X_train)\n",
    "pred_proba = probas[:, 1]\n",
    "roc = round(roc_auc_score(y_train, pred_proba),4)\n",
    "\n",
    "cfm = confusion_matrix(y_true=y_train, y_pred=predictions)\n",
    "\n",
    "print(cfm)\n",
    "print_performance(y_train, predictions)\n",
    "print('AUC', roc)"
   ]
  },
  {
   "cell_type": "markdown",
   "metadata": {},
   "source": [
    "#### Cross validacija za  train podatke"
   ]
  },
  {
   "cell_type": "code",
   "execution_count": 39,
   "metadata": {},
   "outputs": [
    {
     "name": "stdout",
     "output_type": "stream",
     "text": [
      "Cross validated accuracy je:  0.9121154689151905\n",
      "Cross validated standarardna devijacija za accuracy je:  0.01602085573955331\n"
     ]
    }
   ],
   "source": [
    "from sklearn.model_selection import cross_val_score\n",
    "results = cross_val_score(model, X_train, y_train, cv=10, scoring='accuracy')\n",
    "# Kros validiran accuracy, sa devijacijom\n",
    "print('Cross validated accuracy je: ',results.mean())\n",
    "\n",
    "print('Cross validated standarardna devijacija za accuracy je: ',results.std())"
   ]
  },
  {
   "cell_type": "markdown",
   "metadata": {},
   "source": [
    "#### ROC :"
   ]
  },
  {
   "cell_type": "code",
   "execution_count": 40,
   "metadata": {
    "scrolled": false
   },
   "outputs": [
    {
     "data": {
      "text/plain": [
       "[<matplotlib.lines.Line2D at 0x2855315fd30>]"
      ]
     },
     "execution_count": 40,
     "metadata": {},
     "output_type": "execute_result"
    },
    {
     "data": {
      "image/png": "[encoded data removed]",
      "text/plain": [
       "<Figure size 432x288 with 1 Axes>"
      ]
     },
     "metadata": {
      "needs_background": "light"
     },
     "output_type": "display_data"
    }
   ],
   "source": [
    "import matplotlib.pyplot as plt\n",
    "from sklearn.metrics import roc_curve\n",
    "fpr, tpr, thresholds = roc_curve(y_train, pred_proba)\n",
    "plt.plot(fpr, tpr)"
   ]
  },
  {
   "cell_type": "markdown",
   "metadata": {},
   "source": [
    "#### Radimo isto za test podatke"
   ]
  },
  {
   "cell_type": "code",
   "execution_count": 41,
   "metadata": {
    "scrolled": false
   },
   "outputs": [
    {
     "name": "stdout",
     "output_type": "stream",
     "text": [
      "[[1013   48]\n",
      " [  72   63]]\n",
      "Accuracy: 0.8996655518394648\n",
      "Precision: 0.5675675675675675\n",
      "Recall: 0.4666666666666667\n",
      "F1: 0.5121951219512195\n",
      "AUC 0.8958\n"
     ]
    }
   ],
   "source": [
    "model = DecisionTreeClassifier(max_depth = 5)\n",
    "model.fit(X_train, y_train)\n",
    "predictions= model.predict(X_test)\n",
    "\n",
    "\n",
    "probas = model.predict_proba(X_test)\n",
    "pred_proba = probas[:, 1]\n",
    "roc = round(roc_auc_score(y_test, pred_proba),4)\n",
    "\n",
    "cfm = confusion_matrix(y_true=y_test, y_pred=predictions)\n",
    "\n",
    "print(cfm)\n",
    "print_performance(y_test, predictions)\n",
    "print('AUC', roc)"
   ]
  },
  {
   "cell_type": "code",
   "execution_count": 42,
   "metadata": {
    "scrolled": true
   },
   "outputs": [
    {
     "data": {
      "text/plain": [
       "[<matplotlib.lines.Line2D at 0x285531b6580>]"
      ]
     },
     "execution_count": 42,
     "metadata": {},
     "output_type": "execute_result"
    },
    {
     "data": {
      "image/png": "[encoded data removed]",
      "text/plain": [
       "<Figure size 432x288 with 1 Axes>"
      ]
     },
     "metadata": {
      "needs_background": "light"
     },
     "output_type": "display_data"
    }
   ],
   "source": [
    "import matplotlib.pyplot as plt\n",
    "from sklearn.metrics import roc_curve\n",
    "fpr, tpr, thresholds = roc_curve(y_test, pred_proba)\n",
    "plt.plot(fpr, tpr)"
   ]
  },
  {
   "cell_type": "markdown",
   "metadata": {},
   "source": [
    "### Uporedjivanje za razlicite parametre\n",
    "\n",
    "#### 1) Za DecisionTreeClassifier(max_depth = 5)\n",
    "\n",
    "        UCENO NA TRAIN, PROVERA NA TEST: \n",
    "            [[2415   68]\n",
    "             [ 110  195]]\n",
    "            Accuracy: 0.936154949784792\n",
    "            Precision: 0.7414448669201521\n",
    "            Recall: 0.639344262295082\n",
    "            F1: 0.6866197183098592\n",
    "            AUC 0.9368\n",
    "            Cross validated accuracy je:  0.9117583352672701\n",
    "            Cross validated standarardna devijacija za accuracy je:  0.016088247750248755\n",
    "      \n",
    "      UCENO NA TRAIN, PROVERA NA TEST:\n",
    "            [[1013   48]\n",
    "             [  72   63]]\n",
    "            Accuracy: 0.8996655518394648\n",
    "            Precision: 0.5675675675675675\n",
    "            Recall: 0.4666666666666667\n",
    "            F1: 0.5121951219512195\n",
    "            AUC 0.89587  \n",
    "\n",
    "#### 2) Za DecisionTreeClassifier(max_depth = 2)\n",
    "\n",
    "\n",
    "        UCENO NA TRAIN, PROVERA NA TEST: \n",
    "            [[2459   24]\n",
    "             [ 242   63]]\n",
    "            Accuracy: 0.9045911047345767\n",
    "            Precision: 0.7241379310344828\n",
    "            Recall: 0.20655737704918034\n",
    "            F1: 0.32142857142857145\n",
    "            AUC 0.8622\n",
    "            Cross validated accuracy je:  0.9063768340166577\n",
    "            Cross validated standarardna devijacija za accuracy je:  0.012423473558549395\n",
    "      \n",
    "      UCENO NA TRAIN, PROVERA NA TEST:\n",
    "            [[1013   48]\n",
    "             [  72   63]]\n",
    "            Accuracy: 0.8996655518394648\n",
    "            Precision: 0.5675675675675675\n",
    "            Recall: 0.4666666666666667\n",
    "            F1: 0.5121951219512195\n",
    "            AUC 0.8958\n",
    "\n",
    "            \n",
    "#### 2) Za DecisionTreeClassifier(max_depth = 15)      \n",
    "\n",
    "        UCENO NA TRAIN, PROVERA NA TEST: \n",
    "            [[2480    3]\n",
    "             [   3  302]]\n",
    "            Accuracy: 0.9978479196556671\n",
    "            Precision: 0.9901639344262295\n",
    "            Recall: 0.9901639344262295\n",
    "            F1: 0.9901639344262295\n",
    "            AUC 1.0\n",
    "            Cross validated accuracy je:  0.8898816430726386\n",
    "            Cross validated standarardna devijacija za accuracy je:  0.014009588537899867\n",
    "      \n",
    "      UCENO NA TRAIN, PROVERA NA TEST:\n",
    "            [[1013   48]\n",
    "             [  72   63]]\n",
    "            Accuracy: 0.8996655518394648\n",
    "            Precision: 0.5675675675675675\n",
    "            Recall: 0.4666666666666667\n",
    "            F1: 0.5121951219512195\n",
    "            AUC 0.8958"
   ]
  },
  {
   "cell_type": "markdown",
   "metadata": {},
   "source": [
    "## Radimo za Linearnu regresiju"
   ]
  },
  {
   "cell_type": "markdown",
   "metadata": {},
   "source": [
    "#### Pravimo model, fitujemo i predvidjamo. Zatim proveravamo sve relevantne metrike :"
   ]
  },
  {
   "cell_type": "code",
   "execution_count": 43,
   "metadata": {
    "scrolled": false
   },
   "outputs": [
    {
     "name": "stdout",
     "output_type": "stream",
     "text": [
      "[[2430   53]\n",
      " [ 183  122]]\n",
      "Accuracy: 0.9153515064562411\n",
      "Precision: 0.6971428571428572\n",
      "Recall: 0.4\n",
      "F1: 0.5083333333333333\n",
      "AUC 0.9274\n"
     ]
    }
   ],
   "source": [
    "model = LogisticRegression()\n",
    "model.fit(X_train, y_train)\n",
    "predictions= model.predict(X_train)\n",
    "\n",
    "\n",
    "probas = model.predict_proba(X_train)\n",
    "pred_proba = probas[:, 1]\n",
    "roc = round(roc_auc_score(y_train, pred_proba),4)\n",
    "\n",
    "cfm = confusion_matrix(y_true=y_train, y_pred=predictions)\n",
    "\n",
    "print(cfm)\n",
    "print_performance(y_train, predictions)\n",
    "print('AUC', roc)"
   ]
  },
  {
   "cell_type": "markdown",
   "metadata": {},
   "source": [
    "#### Cross validacija za  train podatke"
   ]
  },
  {
   "cell_type": "code",
   "execution_count": 44,
   "metadata": {},
   "outputs": [
    {
     "name": "stdout",
     "output_type": "stream",
     "text": [
      "Cross validated accuracy je:  0.913544003506872\n",
      "Cross validated standarardna devijacija za accuracy je:  0.018945176008533796\n"
     ]
    }
   ],
   "source": [
    "from sklearn.model_selection import cross_val_score\n",
    "results = cross_val_score(model, X_train, y_train, cv=10, scoring='accuracy')\n",
    "# Kros validiran accuracy, sa devijacijom\n",
    "print('Cross validated accuracy je: ',results.mean())\n",
    "\n",
    "print('Cross validated standarardna devijacija za accuracy je: ',results.std())"
   ]
  },
  {
   "cell_type": "markdown",
   "metadata": {},
   "source": [
    "#### ROC :"
   ]
  },
  {
   "cell_type": "code",
   "execution_count": 45,
   "metadata": {
    "scrolled": false
   },
   "outputs": [
    {
     "data": {
      "text/plain": [
       "[<matplotlib.lines.Line2D at 0x285541e3310>]"
      ]
     },
     "execution_count": 45,
     "metadata": {},
     "output_type": "execute_result"
    },
    {
     "data": {
      "image/png": "[encoded data removed]",
      "text/plain": [
       "<Figure size 432x288 with 1 Axes>"
      ]
     },
     "metadata": {
      "needs_background": "light"
     },
     "output_type": "display_data"
    }
   ],
   "source": [
    "import matplotlib.pyplot as plt\n",
    "from sklearn.metrics import roc_curve\n",
    "fpr, tpr, thresholds = roc_curve(y_train, pred_proba)\n",
    "plt.plot(fpr, tpr)"
   ]
  },
  {
   "cell_type": "markdown",
   "metadata": {},
   "source": [
    "#### Radimo isto za test podatke"
   ]
  },
  {
   "cell_type": "code",
   "execution_count": 46,
   "metadata": {
    "scrolled": false
   },
   "outputs": [
    {
     "name": "stdout",
     "output_type": "stream",
     "text": [
      "[[1026   35]\n",
      " [  83   52]]\n",
      "Accuracy: 0.9013377926421404\n",
      "Precision: 0.5977011494252874\n",
      "Recall: 0.3851851851851852\n",
      "F1: 0.46846846846846846\n",
      "AUC 0.9116\n"
     ]
    }
   ],
   "source": [
    "model = LogisticRegression()\n",
    "model.fit(X_train, y_train)\n",
    "predictions= model.predict(X_test)\n",
    "\n",
    "\n",
    "probas = model.predict_proba(X_test)\n",
    "pred_proba = probas[:, 1]\n",
    "roc = round(roc_auc_score(y_test, pred_proba),4)\n",
    "\n",
    "cfm = confusion_matrix(y_true=y_test, y_pred=predictions)\n",
    "\n",
    "print(cfm)\n",
    "print_performance(y_test, predictions)\n",
    "print('AUC', roc)"
   ]
  },
  {
   "cell_type": "code",
   "execution_count": 47,
   "metadata": {
    "scrolled": true
   },
   "outputs": [
    {
     "data": {
      "text/plain": [
       "[<matplotlib.lines.Line2D at 0x28553180a30>]"
      ]
     },
     "execution_count": 47,
     "metadata": {},
     "output_type": "execute_result"
    },
    {
     "data": {
      "image/png": "[encoded data removed]",
      "text/plain": [
       "<Figure size 432x288 with 1 Axes>"
      ]
     },
     "metadata": {
      "needs_background": "light"
     },
     "output_type": "display_data"
    }
   ],
   "source": [
    "import matplotlib.pyplot as plt\n",
    "from sklearn.metrics import roc_curve\n",
    "fpr, tpr, thresholds = roc_curve(y_test, pred_proba)\n",
    "plt.plot(fpr, tpr)"
   ]
  },
  {
   "cell_type": "code",
   "execution_count": null,
   "metadata": {},
   "outputs": [],
   "source": []
  }
 ],
 "metadata": {
  "kernelspec": {
   "display_name": "Python 3",
   "language": "python",
   "name": "python3"
  },
  "language_info": {
   "codemirror_mode": {
    "name": "ipython",
    "version": 3
   },
   "file_extension": ".py",
   "mimetype": "text/x-python",
   "name": "python",
   "nbconvert_exporter": "python",
   "pygments_lexer": "ipython3",
   "version": "3.8.5"
  }
 },
 "nbformat": 4,
 "nbformat_minor": 4
}
